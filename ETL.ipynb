{
 "cells": [
  {
   "cell_type": "code",
   "execution_count": 1,
   "metadata": {},
   "outputs": [],
   "source": [
    "import pandas as pd\n",
    "import numpy as np\n",
    "\n",
    "amazon = pd.read_csv(\"Data/amazon_prime_titles.csv\")\n",
    "disney = pd.read_csv(\"Data/disney_plus_titles.csv\")\n",
    "hulu = pd.read_csv('Data/hulu_titles.csv')\n",
    "netflix = pd.read_csv('Data/netflix_titles.csv')\n"
   ]
  },
  {
   "cell_type": "code",
   "execution_count": 2,
   "metadata": {},
   "outputs": [],
   "source": [
    "#Creamos la columna id\n",
    "\n",
    "amazon['id'] = 'a' + amazon['show_id']\n",
    "disney['id'] = 'd' + disney['show_id']\n",
    "hulu['id'] = 'h' + hulu['show_id']\n",
    "netflix['id'] = 'n' + netflix['show_id']"
   ]
  },
  {
   "cell_type": "code",
   "execution_count": 3,
   "metadata": {},
   "outputs": [],
   "source": [
    "\n",
    "#juntamos todos los csv's\n",
    "\n",
    "df_completo = pd.concat([amazon, disney, hulu, netflix])\n",
    "\n",
    "#Remplazamos los valores nulos de 'rating' por 'g'\n",
    "\n",
    "df_completo['rating'].fillna('G',inplace=True)\n"
   ]
  },
  {
   "cell_type": "code",
   "execution_count": 4,
   "metadata": {},
   "outputs": [],
   "source": [
    "#Ponemos el formato de fecha a AAAA-mm-dd\n",
    "\n",
    "df_completo['date_added'] = pd.to_datetime(df_completo['date_added'])\n"
   ]
  },
  {
   "cell_type": "code",
   "execution_count": 5,
   "metadata": {},
   "outputs": [],
   "source": [
    "#Convertimos todos los textos a minusculas\n",
    "\n",
    "df_completo = df_completo.apply(lambda x: x.str.lower() if x.dtype == \"object\" else x)\n"
   ]
  },
  {
   "cell_type": "code",
   "execution_count": 6,
   "metadata": {},
   "outputs": [],
   "source": [
    "#Dividimos el campo 'duration' en 'duration_int' y 'duration_type'\n",
    "\n",
    "df_completo[['duration_int','duration_type']] = df_completo['duration'].str.split(expand=True)\n"
   ]
  },
  {
   "cell_type": "code",
   "execution_count": 7,
   "metadata": {},
   "outputs": [],
   "source": [
    "#Cambiamos el tipo de dato de 'duration_int' a int\n",
    "\n",
    "df_completo['duration_int'] = df_completo['duration_int'].astype('Int64')\n"
   ]
  },
  {
   "cell_type": "code",
   "execution_count": 8,
   "metadata": {},
   "outputs": [],
   "source": [
    "\n",
    "#Reemplazo \"seasons\" por \"season\":\n",
    "\n",
    "df_completo[\"duration_type\"] = df_completo[\"duration_type\"].str.replace(\"seasons\", \"season\")\n"
   ]
  },
  {
   "cell_type": "code",
   "execution_count": 10,
   "metadata": {},
   "outputs": [],
   "source": [
    "\n",
    "#Exportamos el csv limpio\n",
    "df_completo.to_csv(\"Data/movies_titles.csv\", index=False)"
   ]
  }
 ],
 "metadata": {
  "kernelspec": {
   "display_name": "Python 3",
   "language": "python",
   "name": "python3"
  },
  "language_info": {
   "codemirror_mode": {
    "name": "ipython",
    "version": 3
   },
   "file_extension": ".py",
   "mimetype": "text/x-python",
   "name": "python",
   "nbconvert_exporter": "python",
   "pygments_lexer": "ipython3",
   "version": "3.10.10"
  },
  "orig_nbformat": 4
 },
 "nbformat": 4,
 "nbformat_minor": 2
}
